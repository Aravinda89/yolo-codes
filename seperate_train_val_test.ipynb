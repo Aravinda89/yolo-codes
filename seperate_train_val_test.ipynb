{
 "cells": [
  {
   "cell_type": "code",
   "execution_count": 3,
   "id": "bceec27d-e53b-415c-ab13-e94d3f20d978",
   "metadata": {},
   "outputs": [],
   "source": [
    "import os\n",
    "import shutil\n",
    "import random"
   ]
  },
  {
   "cell_type": "code",
   "execution_count": 4,
   "id": "ffa95269-b4f0-410c-aac3-f1c4858fb929",
   "metadata": {},
   "outputs": [],
   "source": [
    "def split_dataset(\n",
    "    images_dir,\n",
    "    labels_dir,\n",
    "    output_dir,\n",
    "    splits={\"train\": 0.8, \"val\": 0.2},\n",
    "    create_splits=[\"train\", \"val\"],\n",
    "    seed=42\n",
    "):\n",
    "    random.seed(seed)\n",
    "    images = [f for f in os.listdir(images_dir) if f.lower().endswith(('.jpg', '.jpeg', '.png'))]\n",
    "    images.sort()\n",
    "    total = len(images)\n",
    "    print(f\"Total images found: {total}\")\n",
    "\n",
    "    # Shuffle images\n",
    "    random.shuffle(images)\n",
    "\n",
    "    # Calculate split indices\n",
    "    split_indices = []\n",
    "    prev = 0\n",
    "    for split in create_splits:\n",
    "        pct = splits.get(split, 0)\n",
    "        count = int(pct * total)\n",
    "        split_indices.append((split, prev, prev + count))\n",
    "        prev += count\n",
    "    # Adjust last split to include any remainder\n",
    "    if split_indices:\n",
    "        last_split, start, _ = split_indices[-1]\n",
    "        split_indices[-1] = (last_split, start, total)\n",
    "\n",
    "    # Create output folders\n",
    "    for split, _, _ in split_indices:\n",
    "        os.makedirs(os.path.join(output_dir, split, \"images\"), exist_ok=True)\n",
    "        os.makedirs(os.path.join(output_dir, split, \"labels\"), exist_ok=True)\n",
    "\n",
    "    # Copy files\n",
    "    for split, start, end in split_indices:\n",
    "        for img_file in images[start:end]:\n",
    "            label_file = os.path.splitext(img_file)[0] + \".txt\"\n",
    "            shutil.copy2(os.path.join(images_dir, img_file), os.path.join(output_dir, split, \"images\", img_file))\n",
    "            shutil.copy2(os.path.join(labels_dir, label_file), os.path.join(output_dir, split, \"labels\", label_file))\n",
    "        print(f\"{split}: {end-start} images\")"
   ]
  },
  {
   "cell_type": "code",
   "execution_count": 6,
   "id": "59fd4805-101e-43c3-b122-b38273aaf796",
   "metadata": {},
   "outputs": [
    {
     "name": "stdout",
     "output_type": "stream",
     "text": [
      "Total images found: 162\n",
      "train: 113 images\n",
      "val: 32 images\n",
      "test: 17 images\n"
     ]
    }
   ],
   "source": [
    "if __name__ == \"__main__\":\n",
    "    # Example usage:\n",
    "    split_dataset(\n",
    "        images_dir=\"./data/candy_data/images\",\n",
    "        labels_dir=\"./data/candy_data/labels\",\n",
    "        output_dir=\"output\",\n",
    "        splits={\"train\": 0.7, \"val\": 0.2, \"test\": 0.1},\n",
    "        create_splits=[\"train\", \"val\", \"test\"]\n",
    "    )"
   ]
  }
 ],
 "metadata": {
  "kernelspec": {
   "display_name": "TF_env",
   "language": "python",
   "name": "tf_env"
  },
  "language_info": {
   "codemirror_mode": {
    "name": "ipython",
    "version": 3
   },
   "file_extension": ".py",
   "mimetype": "text/x-python",
   "name": "python",
   "nbconvert_exporter": "python",
   "pygments_lexer": "ipython3",
   "version": "3.9.18"
  }
 },
 "nbformat": 4,
 "nbformat_minor": 5
}
